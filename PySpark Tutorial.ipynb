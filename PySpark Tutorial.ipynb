{
 "cells": [
  {
   "cell_type": "markdown",
   "id": "5a48574f-eec8-4c02-8455-6b2f16520351",
   "metadata": {},
   "source": [
    "# PySpark Tutorial"
   ]
  },
  {
   "cell_type": "markdown",
   "id": "727e4034-e49e-4775-916c-c3a2e4e0d3d5",
   "metadata": {},
   "source": [
    "## Part 1: Exploring the data"
   ]
  },
  {
   "cell_type": "code",
   "execution_count": 1,
   "id": "16361482-036c-450a-a949-6dc3b06ae2eb",
   "metadata": {},
   "outputs": [],
   "source": [
    "from pyspark.sql import SparkSession"
   ]
  },
  {
   "cell_type": "markdown",
   "id": "44b55d7c-f3e5-4cd0-aef6-4b20423e3473",
   "metadata": {},
   "source": [
    "Create spark session and import the data from the csv."
   ]
  },
  {
   "cell_type": "code",
   "execution_count": 3,
   "id": "b1df904f-d66d-4c25-ba7d-f0e03aede0a5",
   "metadata": {},
   "outputs": [
    {
     "data": {
      "text/html": [
       "\n",
       "            <div>\n",
       "                <p><b>SparkSession - in-memory</b></p>\n",
       "                \n",
       "        <div>\n",
       "            <p><b>SparkContext</b></p>\n",
       "\n",
       "            <p><a href=\"http://192.168.100.122:4040\">Spark UI</a></p>\n",
       "\n",
       "            <dl>\n",
       "              <dt>Version</dt>\n",
       "                <dd><code>v3.3.0</code></dd>\n",
       "              <dt>Master</dt>\n",
       "                <dd><code>local[*]</code></dd>\n",
       "              <dt>AppName</dt>\n",
       "                <dd><code>Dataframe</code></dd>\n",
       "            </dl>\n",
       "        </div>\n",
       "        \n",
       "            </div>\n",
       "        "
      ],
      "text/plain": [
       "<pyspark.sql.session.SparkSession at 0x7fed60fad720>"
      ]
     },
     "execution_count": 3,
     "metadata": {},
     "output_type": "execute_result"
    }
   ],
   "source": [
    "spark = SparkSession.builder.appName('Dataframe').getOrCreate()\n",
    "spark"
   ]
  },
  {
   "cell_type": "code",
   "execution_count": 4,
   "id": "3698dcd7-58fa-4cc9-87e9-794ef18e64ae",
   "metadata": {},
   "outputs": [
    {
     "name": "stderr",
     "output_type": "stream",
     "text": [
      "                                                                                \r"
     ]
    },
    {
     "name": "stdout",
     "output_type": "stream",
     "text": [
      "+-----------+--------+-------------------+------------------+-----------------+-----------------------+----------------------+------------------+------------------------------+-----------------------------+-----------------------------------+------------------------------+--------------------+--------------------+--------------------+\n",
      "|    country|iso_code|               date|total_vaccinations|people_vaccinated|people_fully_vaccinated|daily_vaccinations_raw|daily_vaccinations|total_vaccinations_per_hundred|people_vaccinated_per_hundred|people_fully_vaccinated_per_hundred|daily_vaccinations_per_million|            vaccines|         source_name|      source_website|\n",
      "+-----------+--------+-------------------+------------------+-----------------+-----------------------+----------------------+------------------+------------------------------+-----------------------------+-----------------------------------+------------------------------+--------------------+--------------------+--------------------+\n",
      "|Afghanistan|     AFG|2021-02-22 00:00:00|               0.0|              0.0|                   null|                  null|              null|                           0.0|                          0.0|                               null|                          null|Johnson&Johnson, ...|World Health Orga...|https://covid19.w...|\n",
      "|Afghanistan|     AFG|2021-02-23 00:00:00|              null|             null|                   null|                  null|            1367.0|                          null|                         null|                               null|                          34.0|Johnson&Johnson, ...|World Health Orga...|https://covid19.w...|\n",
      "|Afghanistan|     AFG|2021-02-24 00:00:00|              null|             null|                   null|                  null|            1367.0|                          null|                         null|                               null|                          34.0|Johnson&Johnson, ...|World Health Orga...|https://covid19.w...|\n",
      "|Afghanistan|     AFG|2021-02-25 00:00:00|              null|             null|                   null|                  null|            1367.0|                          null|                         null|                               null|                          34.0|Johnson&Johnson, ...|World Health Orga...|https://covid19.w...|\n",
      "|Afghanistan|     AFG|2021-02-26 00:00:00|              null|             null|                   null|                  null|            1367.0|                          null|                         null|                               null|                          34.0|Johnson&Johnson, ...|World Health Orga...|https://covid19.w...|\n",
      "|Afghanistan|     AFG|2021-02-27 00:00:00|              null|             null|                   null|                  null|            1367.0|                          null|                         null|                               null|                          34.0|Johnson&Johnson, ...|World Health Orga...|https://covid19.w...|\n",
      "|Afghanistan|     AFG|2021-02-28 00:00:00|            8200.0|           8200.0|                   null|                  null|            1367.0|                          0.02|                         0.02|                               null|                          34.0|Johnson&Johnson, ...|World Health Orga...|https://covid19.w...|\n",
      "|Afghanistan|     AFG|2021-03-01 00:00:00|              null|             null|                   null|                  null|            1580.0|                          null|                         null|                               null|                          40.0|Johnson&Johnson, ...|World Health Orga...|https://covid19.w...|\n",
      "|Afghanistan|     AFG|2021-03-02 00:00:00|              null|             null|                   null|                  null|            1794.0|                          null|                         null|                               null|                          45.0|Johnson&Johnson, ...|World Health Orga...|https://covid19.w...|\n",
      "|Afghanistan|     AFG|2021-03-03 00:00:00|              null|             null|                   null|                  null|            2008.0|                          null|                         null|                               null|                          50.0|Johnson&Johnson, ...|World Health Orga...|https://covid19.w...|\n",
      "|Afghanistan|     AFG|2021-03-04 00:00:00|              null|             null|                   null|                  null|            2221.0|                          null|                         null|                               null|                          56.0|Johnson&Johnson, ...|World Health Orga...|https://covid19.w...|\n",
      "|Afghanistan|     AFG|2021-03-05 00:00:00|              null|             null|                   null|                  null|            2435.0|                          null|                         null|                               null|                          61.0|Johnson&Johnson, ...|World Health Orga...|https://covid19.w...|\n",
      "|Afghanistan|     AFG|2021-03-06 00:00:00|              null|             null|                   null|                  null|            2649.0|                          null|                         null|                               null|                          66.0|Johnson&Johnson, ...|World Health Orga...|https://covid19.w...|\n",
      "|Afghanistan|     AFG|2021-03-07 00:00:00|              null|             null|                   null|                  null|            2862.0|                          null|                         null|                               null|                          72.0|Johnson&Johnson, ...|World Health Orga...|https://covid19.w...|\n",
      "|Afghanistan|     AFG|2021-03-08 00:00:00|              null|             null|                   null|                  null|            2862.0|                          null|                         null|                               null|                          72.0|Johnson&Johnson, ...|World Health Orga...|https://covid19.w...|\n",
      "|Afghanistan|     AFG|2021-03-09 00:00:00|              null|             null|                   null|                  null|            2862.0|                          null|                         null|                               null|                          72.0|Johnson&Johnson, ...|World Health Orga...|https://covid19.w...|\n",
      "|Afghanistan|     AFG|2021-03-10 00:00:00|              null|             null|                   null|                  null|            2862.0|                          null|                         null|                               null|                          72.0|Johnson&Johnson, ...|World Health Orga...|https://covid19.w...|\n",
      "|Afghanistan|     AFG|2021-03-11 00:00:00|              null|             null|                   null|                  null|            2862.0|                          null|                         null|                               null|                          72.0|Johnson&Johnson, ...|World Health Orga...|https://covid19.w...|\n",
      "|Afghanistan|     AFG|2021-03-12 00:00:00|              null|             null|                   null|                  null|            2862.0|                          null|                         null|                               null|                          72.0|Johnson&Johnson, ...|World Health Orga...|https://covid19.w...|\n",
      "|Afghanistan|     AFG|2021-03-13 00:00:00|              null|             null|                   null|                  null|            2862.0|                          null|                         null|                               null|                          72.0|Johnson&Johnson, ...|World Health Orga...|https://covid19.w...|\n",
      "+-----------+--------+-------------------+------------------+-----------------+-----------------------+----------------------+------------------+------------------------------+-----------------------------+-----------------------------------+------------------------------+--------------------+--------------------+--------------------+\n",
      "only showing top 20 rows\n",
      "\n"
     ]
    }
   ],
   "source": [
    "df = spark.read.options(header='True').csv('country_vaccinations.csv', inferSchema=True)\n",
    "df.show()"
   ]
  },
  {
   "cell_type": "markdown",
   "id": "dc48f53a-bff1-48cd-ab07-abb7c2ae8fd8",
   "metadata": {},
   "source": [
    "Check the schema of the dataframe"
   ]
  },
  {
   "cell_type": "code",
   "execution_count": 5,
   "id": "5008e7c5-5fa5-4acb-abe6-299ffe02fedf",
   "metadata": {},
   "outputs": [
    {
     "name": "stdout",
     "output_type": "stream",
     "text": [
      "root\n",
      " |-- country: string (nullable = true)\n",
      " |-- iso_code: string (nullable = true)\n",
      " |-- date: timestamp (nullable = true)\n",
      " |-- total_vaccinations: double (nullable = true)\n",
      " |-- people_vaccinated: double (nullable = true)\n",
      " |-- people_fully_vaccinated: double (nullable = true)\n",
      " |-- daily_vaccinations_raw: double (nullable = true)\n",
      " |-- daily_vaccinations: double (nullable = true)\n",
      " |-- total_vaccinations_per_hundred: double (nullable = true)\n",
      " |-- people_vaccinated_per_hundred: double (nullable = true)\n",
      " |-- people_fully_vaccinated_per_hundred: double (nullable = true)\n",
      " |-- daily_vaccinations_per_million: double (nullable = true)\n",
      " |-- vaccines: string (nullable = true)\n",
      " |-- source_name: string (nullable = true)\n",
      " |-- source_website: string (nullable = true)\n",
      "\n"
     ]
    }
   ],
   "source": [
    "df.printSchema()"
   ]
  },
  {
   "cell_type": "markdown",
   "id": "33275c8f-5e19-4c90-8d09-39886ced3f6d",
   "metadata": {},
   "source": [
    "**Simpler way to import the data with header and infer the schema**"
   ]
  },
  {
   "cell_type": "code",
   "execution_count": 6,
   "id": "bfbcfadc-a7e2-457d-bf37-b5e49a1eb4ff",
   "metadata": {},
   "outputs": [
    {
     "name": "stdout",
     "output_type": "stream",
     "text": [
      "+-----------+--------+-------------------+------------------+-----------------+-----------------------+----------------------+------------------+------------------------------+-----------------------------+-----------------------------------+------------------------------+--------------------+--------------------+--------------------+\n",
      "|    country|iso_code|               date|total_vaccinations|people_vaccinated|people_fully_vaccinated|daily_vaccinations_raw|daily_vaccinations|total_vaccinations_per_hundred|people_vaccinated_per_hundred|people_fully_vaccinated_per_hundred|daily_vaccinations_per_million|            vaccines|         source_name|      source_website|\n",
      "+-----------+--------+-------------------+------------------+-----------------+-----------------------+----------------------+------------------+------------------------------+-----------------------------+-----------------------------------+------------------------------+--------------------+--------------------+--------------------+\n",
      "|Afghanistan|     AFG|2021-02-22 00:00:00|               0.0|              0.0|                   null|                  null|              null|                           0.0|                          0.0|                               null|                          null|Johnson&Johnson, ...|World Health Orga...|https://covid19.w...|\n",
      "|Afghanistan|     AFG|2021-02-23 00:00:00|              null|             null|                   null|                  null|            1367.0|                          null|                         null|                               null|                          34.0|Johnson&Johnson, ...|World Health Orga...|https://covid19.w...|\n",
      "|Afghanistan|     AFG|2021-02-24 00:00:00|              null|             null|                   null|                  null|            1367.0|                          null|                         null|                               null|                          34.0|Johnson&Johnson, ...|World Health Orga...|https://covid19.w...|\n",
      "|Afghanistan|     AFG|2021-02-25 00:00:00|              null|             null|                   null|                  null|            1367.0|                          null|                         null|                               null|                          34.0|Johnson&Johnson, ...|World Health Orga...|https://covid19.w...|\n",
      "|Afghanistan|     AFG|2021-02-26 00:00:00|              null|             null|                   null|                  null|            1367.0|                          null|                         null|                               null|                          34.0|Johnson&Johnson, ...|World Health Orga...|https://covid19.w...|\n",
      "|Afghanistan|     AFG|2021-02-27 00:00:00|              null|             null|                   null|                  null|            1367.0|                          null|                         null|                               null|                          34.0|Johnson&Johnson, ...|World Health Orga...|https://covid19.w...|\n",
      "|Afghanistan|     AFG|2021-02-28 00:00:00|            8200.0|           8200.0|                   null|                  null|            1367.0|                          0.02|                         0.02|                               null|                          34.0|Johnson&Johnson, ...|World Health Orga...|https://covid19.w...|\n",
      "|Afghanistan|     AFG|2021-03-01 00:00:00|              null|             null|                   null|                  null|            1580.0|                          null|                         null|                               null|                          40.0|Johnson&Johnson, ...|World Health Orga...|https://covid19.w...|\n",
      "|Afghanistan|     AFG|2021-03-02 00:00:00|              null|             null|                   null|                  null|            1794.0|                          null|                         null|                               null|                          45.0|Johnson&Johnson, ...|World Health Orga...|https://covid19.w...|\n",
      "|Afghanistan|     AFG|2021-03-03 00:00:00|              null|             null|                   null|                  null|            2008.0|                          null|                         null|                               null|                          50.0|Johnson&Johnson, ...|World Health Orga...|https://covid19.w...|\n",
      "|Afghanistan|     AFG|2021-03-04 00:00:00|              null|             null|                   null|                  null|            2221.0|                          null|                         null|                               null|                          56.0|Johnson&Johnson, ...|World Health Orga...|https://covid19.w...|\n",
      "|Afghanistan|     AFG|2021-03-05 00:00:00|              null|             null|                   null|                  null|            2435.0|                          null|                         null|                               null|                          61.0|Johnson&Johnson, ...|World Health Orga...|https://covid19.w...|\n",
      "|Afghanistan|     AFG|2021-03-06 00:00:00|              null|             null|                   null|                  null|            2649.0|                          null|                         null|                               null|                          66.0|Johnson&Johnson, ...|World Health Orga...|https://covid19.w...|\n",
      "|Afghanistan|     AFG|2021-03-07 00:00:00|              null|             null|                   null|                  null|            2862.0|                          null|                         null|                               null|                          72.0|Johnson&Johnson, ...|World Health Orga...|https://covid19.w...|\n",
      "|Afghanistan|     AFG|2021-03-08 00:00:00|              null|             null|                   null|                  null|            2862.0|                          null|                         null|                               null|                          72.0|Johnson&Johnson, ...|World Health Orga...|https://covid19.w...|\n",
      "|Afghanistan|     AFG|2021-03-09 00:00:00|              null|             null|                   null|                  null|            2862.0|                          null|                         null|                               null|                          72.0|Johnson&Johnson, ...|World Health Orga...|https://covid19.w...|\n",
      "|Afghanistan|     AFG|2021-03-10 00:00:00|              null|             null|                   null|                  null|            2862.0|                          null|                         null|                               null|                          72.0|Johnson&Johnson, ...|World Health Orga...|https://covid19.w...|\n",
      "|Afghanistan|     AFG|2021-03-11 00:00:00|              null|             null|                   null|                  null|            2862.0|                          null|                         null|                               null|                          72.0|Johnson&Johnson, ...|World Health Orga...|https://covid19.w...|\n",
      "|Afghanistan|     AFG|2021-03-12 00:00:00|              null|             null|                   null|                  null|            2862.0|                          null|                         null|                               null|                          72.0|Johnson&Johnson, ...|World Health Orga...|https://covid19.w...|\n",
      "|Afghanistan|     AFG|2021-03-13 00:00:00|              null|             null|                   null|                  null|            2862.0|                          null|                         null|                               null|                          72.0|Johnson&Johnson, ...|World Health Orga...|https://covid19.w...|\n",
      "+-----------+--------+-------------------+------------------+-----------------+-----------------------+----------------------+------------------+------------------------------+-----------------------------+-----------------------------------+------------------------------+--------------------+--------------------+--------------------+\n",
      "only showing top 20 rows\n",
      "\n"
     ]
    }
   ],
   "source": [
    "df = spark.read.csv('country_vaccinations.csv', header=True, inferSchema=True)\n",
    "df.show()"
   ]
  },
  {
   "cell_type": "markdown",
   "id": "8bc95033-87f3-47bf-967a-bd33cc369780",
   "metadata": {},
   "source": [
    "### Explore the dataset"
   ]
  },
  {
   "cell_type": "code",
   "execution_count": 7,
   "id": "959eace4-36a9-416a-8610-083633b4186f",
   "metadata": {},
   "outputs": [
    {
     "name": "stdout",
     "output_type": "stream",
     "text": [
      "root\n",
      " |-- country: string (nullable = true)\n",
      " |-- iso_code: string (nullable = true)\n",
      " |-- date: timestamp (nullable = true)\n",
      " |-- total_vaccinations: double (nullable = true)\n",
      " |-- people_vaccinated: double (nullable = true)\n",
      " |-- people_fully_vaccinated: double (nullable = true)\n",
      " |-- daily_vaccinations_raw: double (nullable = true)\n",
      " |-- daily_vaccinations: double (nullable = true)\n",
      " |-- total_vaccinations_per_hundred: double (nullable = true)\n",
      " |-- people_vaccinated_per_hundred: double (nullable = true)\n",
      " |-- people_fully_vaccinated_per_hundred: double (nullable = true)\n",
      " |-- daily_vaccinations_per_million: double (nullable = true)\n",
      " |-- vaccines: string (nullable = true)\n",
      " |-- source_name: string (nullable = true)\n",
      " |-- source_website: string (nullable = true)\n",
      "\n"
     ]
    },
    {
     "data": {
      "text/plain": [
       "None"
      ]
     },
     "metadata": {},
     "output_type": "display_data"
    },
    {
     "data": {
      "text/plain": [
       "['country',\n",
       " 'iso_code',\n",
       " 'date',\n",
       " 'total_vaccinations',\n",
       " 'people_vaccinated',\n",
       " 'people_fully_vaccinated',\n",
       " 'daily_vaccinations_raw',\n",
       " 'daily_vaccinations',\n",
       " 'total_vaccinations_per_hundred',\n",
       " 'people_vaccinated_per_hundred',\n",
       " 'people_fully_vaccinated_per_hundred',\n",
       " 'daily_vaccinations_per_million',\n",
       " 'vaccines',\n",
       " 'source_name',\n",
       " 'source_website']"
      ]
     },
     "metadata": {},
     "output_type": "display_data"
    }
   ],
   "source": [
    "display(df.printSchema(), df.columns)"
   ]
  },
  {
   "cell_type": "code",
   "execution_count": 8,
   "id": "aaa61955-f9b5-4c47-8e4d-11a3c58f3084",
   "metadata": {},
   "outputs": [
    {
     "data": {
      "text/plain": [
       "[Row(country='Afghanistan', iso_code='AFG', date=datetime.datetime(2021, 2, 22, 0, 0), total_vaccinations=0.0, people_vaccinated=0.0, people_fully_vaccinated=None, daily_vaccinations_raw=None, daily_vaccinations=None, total_vaccinations_per_hundred=0.0, people_vaccinated_per_hundred=0.0, people_fully_vaccinated_per_hundred=None, daily_vaccinations_per_million=None, vaccines='Johnson&Johnson, Oxford/AstraZeneca, Pfizer/BioNTech, Sinopharm/Beijing', source_name='World Health Organization', source_website='https://covid19.who.int/'),\n",
       " Row(country='Afghanistan', iso_code='AFG', date=datetime.datetime(2021, 2, 23, 0, 0), total_vaccinations=None, people_vaccinated=None, people_fully_vaccinated=None, daily_vaccinations_raw=None, daily_vaccinations=1367.0, total_vaccinations_per_hundred=None, people_vaccinated_per_hundred=None, people_fully_vaccinated_per_hundred=None, daily_vaccinations_per_million=34.0, vaccines='Johnson&Johnson, Oxford/AstraZeneca, Pfizer/BioNTech, Sinopharm/Beijing', source_name='World Health Organization', source_website='https://covid19.who.int/'),\n",
       " Row(country='Afghanistan', iso_code='AFG', date=datetime.datetime(2021, 2, 24, 0, 0), total_vaccinations=None, people_vaccinated=None, people_fully_vaccinated=None, daily_vaccinations_raw=None, daily_vaccinations=1367.0, total_vaccinations_per_hundred=None, people_vaccinated_per_hundred=None, people_fully_vaccinated_per_hundred=None, daily_vaccinations_per_million=34.0, vaccines='Johnson&Johnson, Oxford/AstraZeneca, Pfizer/BioNTech, Sinopharm/Beijing', source_name='World Health Organization', source_website='https://covid19.who.int/'),\n",
       " Row(country='Afghanistan', iso_code='AFG', date=datetime.datetime(2021, 2, 25, 0, 0), total_vaccinations=None, people_vaccinated=None, people_fully_vaccinated=None, daily_vaccinations_raw=None, daily_vaccinations=1367.0, total_vaccinations_per_hundred=None, people_vaccinated_per_hundred=None, people_fully_vaccinated_per_hundred=None, daily_vaccinations_per_million=34.0, vaccines='Johnson&Johnson, Oxford/AstraZeneca, Pfizer/BioNTech, Sinopharm/Beijing', source_name='World Health Organization', source_website='https://covid19.who.int/'),\n",
       " Row(country='Afghanistan', iso_code='AFG', date=datetime.datetime(2021, 2, 26, 0, 0), total_vaccinations=None, people_vaccinated=None, people_fully_vaccinated=None, daily_vaccinations_raw=None, daily_vaccinations=1367.0, total_vaccinations_per_hundred=None, people_vaccinated_per_hundred=None, people_fully_vaccinated_per_hundred=None, daily_vaccinations_per_million=34.0, vaccines='Johnson&Johnson, Oxford/AstraZeneca, Pfizer/BioNTech, Sinopharm/Beijing', source_name='World Health Organization', source_website='https://covid19.who.int/')]"
      ]
     },
     "execution_count": 8,
     "metadata": {},
     "output_type": "execute_result"
    }
   ],
   "source": [
    "df.head(5)"
   ]
  },
  {
   "cell_type": "code",
   "execution_count": 11,
   "id": "14f3aa17-69c1-4fb4-8405-a601372419ec",
   "metadata": {},
   "outputs": [
    {
     "name": "stdout",
     "output_type": "stream",
     "text": [
      "+-----------+------------------+\n",
      "|    country|total_vaccinations|\n",
      "+-----------+------------------+\n",
      "|Afghanistan|               0.0|\n",
      "|Afghanistan|              null|\n",
      "|Afghanistan|              null|\n",
      "|Afghanistan|              null|\n",
      "|Afghanistan|              null|\n",
      "|Afghanistan|              null|\n",
      "|Afghanistan|            8200.0|\n",
      "|Afghanistan|              null|\n",
      "|Afghanistan|              null|\n",
      "|Afghanistan|              null|\n",
      "|Afghanistan|              null|\n",
      "|Afghanistan|              null|\n",
      "|Afghanistan|              null|\n",
      "|Afghanistan|              null|\n",
      "|Afghanistan|              null|\n",
      "|Afghanistan|              null|\n",
      "|Afghanistan|              null|\n",
      "|Afghanistan|              null|\n",
      "|Afghanistan|              null|\n",
      "|Afghanistan|              null|\n",
      "+-----------+------------------+\n",
      "only showing top 20 rows\n",
      "\n"
     ]
    }
   ],
   "source": [
    "df.select(['country', 'total_vaccinations']).show()"
   ]
  },
  {
   "cell_type": "code",
   "execution_count": 13,
   "id": "3cb88079-9696-4ede-96de-ebdd8532530b",
   "metadata": {},
   "outputs": [
    {
     "data": {
      "text/plain": [
       "[('country', 'string'),\n",
       " ('iso_code', 'string'),\n",
       " ('date', 'timestamp'),\n",
       " ('total_vaccinations', 'double'),\n",
       " ('people_vaccinated', 'double'),\n",
       " ('people_fully_vaccinated', 'double'),\n",
       " ('daily_vaccinations_raw', 'double'),\n",
       " ('daily_vaccinations', 'double'),\n",
       " ('total_vaccinations_per_hundred', 'double'),\n",
       " ('people_vaccinated_per_hundred', 'double'),\n",
       " ('people_fully_vaccinated_per_hundred', 'double'),\n",
       " ('daily_vaccinations_per_million', 'double'),\n",
       " ('vaccines', 'string'),\n",
       " ('source_name', 'string'),\n",
       " ('source_website', 'string')]"
      ]
     },
     "execution_count": 13,
     "metadata": {},
     "output_type": "execute_result"
    }
   ],
   "source": [
    "df.dtypes"
   ]
  },
  {
   "cell_type": "code",
   "execution_count": 16,
   "id": "dc660a3c-2d5d-436d-86b6-a362a4115c78",
   "metadata": {},
   "outputs": [
    {
     "name": "stderr",
     "output_type": "stream",
     "text": [
      "[Stage 10:==================================>                       (3 + 2) / 5]\r"
     ]
    },
    {
     "name": "stdout",
     "output_type": "stream",
     "text": [
      "+-------+-----------+--------+--------------------+-------------------+-----------------------+----------------------+------------------+------------------------------+-----------------------------+-----------------------------------+------------------------------+--------------------+--------------------+--------------------+\n",
      "|summary|    country|iso_code|  total_vaccinations|  people_vaccinated|people_fully_vaccinated|daily_vaccinations_raw|daily_vaccinations|total_vaccinations_per_hundred|people_vaccinated_per_hundred|people_fully_vaccinated_per_hundred|daily_vaccinations_per_million|            vaccines|         source_name|      source_website|\n",
      "+-------+-----------+--------+--------------------+-------------------+-----------------------+----------------------+------------------+------------------------------+-----------------------------+-----------------------------------+------------------------------+--------------------+--------------------+--------------------+\n",
      "|  count|      86512|   86512|               43607|              41294|                  38802|                 35362|             86213|                         43607|                        41294|                              38802|                         86213|               86512|               86512|               86512|\n",
      "|   mean|       null|    null|4.5929644638727725E7|1.770507778979997E7|   1.4138299848152157E7|     270599.5782478367|131305.48607518588|             80.18854312381058|            40.92731728580422|                 35.523242874078726|             3257.049157319662|                null|                null|                null|\n",
      "| stddev|       null|    null|  2.24600360181667E8|7.078731150047593E7|    5.713920171915868E7|    1212426.6019539102| 768238.7732930562|             67.91357674747685|           29.290758645338034|                  28.37625180924739|            3934.3124401057307|                null|                null|                null|\n",
      "|    min|Afghanistan|     ABW|                 0.0|                0.0|                    1.0|                   0.0|               0.0|                           0.0|                          0.0|                                0.0|                           0.0|Abdala, Johnson&J...|Africa Centres fo...|http://103.247.23...|\n",
      "|    max|   Zimbabwe|     ZWE|          3.263129E9|         1.275541E9|             1.240777E9|              2.4741E7|       2.2424286E7|                        345.37|                       124.76|                             122.37|                      117497.0|Sinopharm/Beijing...|World Health Orga...|https://www.ssm.g...|\n",
      "+-------+-----------+--------+--------------------+-------------------+-----------------------+----------------------+------------------+------------------------------+-----------------------------+-----------------------------------+------------------------------+--------------------+--------------------+--------------------+\n",
      "\n"
     ]
    },
    {
     "name": "stderr",
     "output_type": "stream",
     "text": [
      "                                                                                \r"
     ]
    }
   ],
   "source": [
    "df.describe().show()"
   ]
  },
  {
   "cell_type": "markdown",
   "id": "227626f5-1dcb-49fa-881c-d277afcec5ce",
   "metadata": {},
   "source": [
    "### Modifying the schema"
   ]
  },
  {
   "cell_type": "code",
   "execution_count": 28,
   "id": "31001686-d173-4c66-8df9-0d58b4af6ffb",
   "metadata": {},
   "outputs": [
    {
     "data": {
      "text/plain": [
       "['country',\n",
       " 'iso_code',\n",
       " 'date',\n",
       " 'total_vaccinations',\n",
       " 'people_vaccinated',\n",
       " 'people_fully_vaccinated',\n",
       " 'daily_vaccinations_raw',\n",
       " 'daily_vaccinations',\n",
       " 'total_vaccinations_per_hundred',\n",
       " 'people_vaccinated_per_hundred',\n",
       " 'people_fully_vaccinated_per_hundred',\n",
       " 'daily_vaccinations_per_million',\n",
       " 'vaccines',\n",
       " 'source_name',\n",
       " 'source_website',\n",
       " 'Test']"
      ]
     },
     "execution_count": 28,
     "metadata": {},
     "output_type": "execute_result"
    }
   ],
   "source": [
    "# Adding a column\n",
    "test = df.withColumn('Test', df['total_vaccinations'] + 69)\n",
    "test.columns"
   ]
  },
  {
   "cell_type": "code",
   "execution_count": 29,
   "id": "511b9227-e26a-4b3a-b0f3-156a5c45dee2",
   "metadata": {},
   "outputs": [
    {
     "data": {
      "text/plain": [
       "['country',\n",
       " 'iso_code',\n",
       " 'date',\n",
       " 'total_vaccinations',\n",
       " 'people_vaccinated',\n",
       " 'people_fully_vaccinated',\n",
       " 'daily_vaccinations_raw',\n",
       " 'daily_vaccinations',\n",
       " 'total_vaccinations_per_hundred',\n",
       " 'people_vaccinated_per_hundred',\n",
       " 'people_fully_vaccinated_per_hundred',\n",
       " 'daily_vaccinations_per_million',\n",
       " 'vaccines',\n",
       " 'source_name',\n",
       " 'source_website']"
      ]
     },
     "execution_count": 29,
     "metadata": {},
     "output_type": "execute_result"
    }
   ],
   "source": [
    "# Droping a column\n",
    "test = test.drop('Test')\n",
    "test.columns"
   ]
  },
  {
   "cell_type": "code",
   "execution_count": 30,
   "id": "fe7552b7-a357-45e0-9c1b-1a65909274ef",
   "metadata": {},
   "outputs": [
    {
     "data": {
      "text/plain": [
       "['country',\n",
       " 'ISO',\n",
       " 'date',\n",
       " 'total_vaccinations',\n",
       " 'people_vaccinated',\n",
       " 'people_fully_vaccinated',\n",
       " 'daily_vaccinations_raw',\n",
       " 'daily_vaccinations',\n",
       " 'total_vaccinations_per_hundred',\n",
       " 'people_vaccinated_per_hundred',\n",
       " 'people_fully_vaccinated_per_hundred',\n",
       " 'daily_vaccinations_per_million',\n",
       " 'vaccines',\n",
       " 'source_name',\n",
       " 'source_website']"
      ]
     },
     "execution_count": 30,
     "metadata": {},
     "output_type": "execute_result"
    }
   ],
   "source": [
    "# Renaming a column\n",
    "test.withColumnRenamed('iso_code', 'ISO').columns"
   ]
  },
  {
   "cell_type": "markdown",
   "id": "ae56548f-d792-47cf-98bf-13ae7bbb197d",
   "metadata": {},
   "source": [
    "## Part 2: Dataframe NA operations"
   ]
  },
  {
   "cell_type": "markdown",
   "id": "15bb67b9-3b4a-487c-80ae-37f1462e1760",
   "metadata": {},
   "source": [
    "### Dropping rows"
   ]
  },
  {
   "cell_type": "code",
   "execution_count": 33,
   "id": "98e360c0-06d6-4c76-8339-a71066dd120a",
   "metadata": {},
   "outputs": [
    {
     "name": "stdout",
     "output_type": "stream",
     "text": [
      "+-----------+--------+-------------------+------------------+-----------------+-----------------------+----------------------+------------------+------------------------------+-----------------------------+-----------------------------------+------------------------------+--------------------+--------------------+--------------------+\n",
      "|    country|iso_code|               date|total_vaccinations|people_vaccinated|people_fully_vaccinated|daily_vaccinations_raw|daily_vaccinations|total_vaccinations_per_hundred|people_vaccinated_per_hundred|people_fully_vaccinated_per_hundred|daily_vaccinations_per_million|            vaccines|         source_name|      source_website|\n",
      "+-----------+--------+-------------------+------------------+-----------------+-----------------------+----------------------+------------------+------------------------------+-----------------------------+-----------------------------------+------------------------------+--------------------+--------------------+--------------------+\n",
      "|Afghanistan|     AFG|2021-05-27 00:00:00|          593313.0|         479574.0|               113739.0|                2859.0|            6487.0|                          1.49|                          1.2|                               0.29|                         163.0|Johnson&Johnson, ...|World Health Orga...|https://covid19.w...|\n",
      "|Afghanistan|     AFG|2021-06-03 00:00:00|          630305.0|         481800.0|               148505.0|                4015.0|            5285.0|                          1.58|                         1.21|                               0.37|                         133.0|Johnson&Johnson, ...|World Health Orga...|https://covid19.w...|\n",
      "|Afghanistan|     AFG|2022-01-27 00:00:00|         5081064.0|        4517380.0|              3868832.0|                6868.0|            9802.0|                         12.76|                        11.34|                               9.71|                         246.0|Johnson&Johnson, ...|World Health Orga...|https://covid19.w...|\n",
      "|    Albania|     ALB|2021-02-18 00:00:00|            3049.0|           2438.0|                  611.0|                1348.0|             254.0|                          0.11|                         0.08|                               0.02|                          88.0|Oxford/AstraZenec...|  Ministry of Health|https://shendetes...|\n",
      "|    Albania|     ALB|2021-05-11 00:00:00|          622507.0|         440921.0|               181586.0|                9548.0|           12160.0|                         21.67|                        15.35|                               6.32|                        4233.0|Oxford/AstraZenec...|  Ministry of Health|https://shendetes...|\n",
      "|    Albania|     ALB|2021-05-12 00:00:00|          632676.0|         444755.0|               187921.0|               10169.0|           10870.0|                         22.02|                        15.48|                               6.54|                        3784.0|Oxford/AstraZenec...|  Ministry of Health|https://shendetes...|\n",
      "|    Albania|     ALB|2021-05-13 00:00:00|          638338.0|         445402.0|               192936.0|                5662.0|            9445.0|                         22.22|                         15.5|                               6.72|                        3288.0|Oxford/AstraZenec...|  Ministry of Health|https://shendetes...|\n",
      "|    Albania|     ALB|2021-05-14 00:00:00|          653330.0|         448571.0|               204759.0|               14992.0|            9662.0|                         22.74|                        15.61|                               7.13|                        3363.0|Oxford/AstraZenec...|  Ministry of Health|https://shendetes...|\n",
      "|    Albania|     ALB|2021-05-18 00:00:00|          688947.0|         460191.0|               228756.0|                8864.0|            9491.0|                         23.98|                        16.02|                               7.96|                        3304.0|Oxford/AstraZenec...|  Ministry of Health|https://shendetes...|\n",
      "|    Albania|     ALB|2021-05-19 00:00:00|          697811.0|         463402.0|               234409.0|                8864.0|            9305.0|                         24.29|                        16.13|                               8.16|                        3239.0|Oxford/AstraZenec...|  Ministry of Health|https://shendetes...|\n",
      "|    Albania|     ALB|2021-05-20 00:00:00|          703743.0|         466083.0|               237660.0|                5932.0|            9344.0|                          24.5|                        16.22|                               8.27|                        3252.0|Oxford/AstraZenec...|  Ministry of Health|https://shendetes...|\n",
      "|    Albania|     ALB|2021-05-21 00:00:00|          708846.0|         469169.0|               239677.0|                5103.0|            7931.0|                         24.67|                        16.33|                               8.34|                        2761.0|Oxford/AstraZenec...|  Ministry of Health|https://shendetes...|\n",
      "|    Albania|     ALB|2021-05-24 00:00:00|          725135.0|         475237.0|               249898.0|                8519.0|            6436.0|                         25.24|                        16.54|                                8.7|                        2240.0|Oxford/AstraZenec...|  Ministry of Health|https://shendetes...|\n",
      "|    Albania|     ALB|2021-05-27 00:00:00|          759043.0|         481788.0|               277255.0|               10057.0|            7900.0|                         26.42|                        16.77|                               9.65|                        2750.0|Oxford/AstraZenec...|  Ministry of Health|https://shendetes...|\n",
      "|    Albania|     ALB|2021-05-31 00:00:00|          776461.0|         486128.0|               290333.0|                4257.0|            7332.0|                         27.03|                        16.92|                              10.11|                        2552.0|Oxford/AstraZenec...|  Ministry of Health|https://shendetes...|\n",
      "|    Albania|     ALB|2021-06-01 00:00:00|          780342.0|         487078.0|               293264.0|                3881.0|            6183.0|                         27.16|                        16.95|                              10.21|                        2152.0|Oxford/AstraZenec...|  Ministry of Health|https://shendetes...|\n",
      "|    Albania|     ALB|2021-06-07 00:00:00|          803682.0|         493346.0|               310336.0|                5058.0|            3889.0|                         27.97|                        17.17|                               10.8|                        1354.0|Oxford/AstraZenec...|  Ministry of Health|https://shendetes...|\n",
      "|    Albania|     ALB|2021-06-08 00:00:00|          809992.0|         494437.0|               315555.0|                6310.0|            4236.0|                         28.19|                        17.21|                              10.98|                        1474.0|Oxford/AstraZenec...|  Ministry of Health|https://shendetes...|\n",
      "|    Albania|     ALB|2021-06-09 00:00:00|          816556.0|         496024.0|               320532.0|                6564.0|            4675.0|                         28.42|                        17.27|                              11.16|                        1627.0|Oxford/AstraZenec...|  Ministry of Health|https://shendetes...|\n",
      "|    Albania|     ALB|2021-06-10 00:00:00|          823053.0|         498437.0|               324616.0|                6497.0|            5105.0|                         28.65|                        17.35|                               11.3|                        1777.0|Oxford/AstraZenec...|  Ministry of Health|https://shendetes...|\n",
      "+-----------+--------+-------------------+------------------+-----------------+-----------------------+----------------------+------------------+------------------------------+-----------------------------+-----------------------------------+------------------------------+--------------------+--------------------+--------------------+\n",
      "only showing top 20 rows\n",
      "\n"
     ]
    }
   ],
   "source": [
    "# Dropping all rows with null values\n",
    "df.na.drop().show()"
   ]
  },
  {
   "cell_type": "code",
   "execution_count": 34,
   "id": "832059a9-c7a2-4142-a2c4-307db7a380c7",
   "metadata": {},
   "outputs": [
    {
     "name": "stdout",
     "output_type": "stream",
     "text": [
      "+-----------+--------+-------------------+------------------+-----------------+-----------------------+----------------------+------------------+------------------------------+-----------------------------+-----------------------------------+------------------------------+--------------------+--------------------+--------------------+\n",
      "|    country|iso_code|               date|total_vaccinations|people_vaccinated|people_fully_vaccinated|daily_vaccinations_raw|daily_vaccinations|total_vaccinations_per_hundred|people_vaccinated_per_hundred|people_fully_vaccinated_per_hundred|daily_vaccinations_per_million|            vaccines|         source_name|      source_website|\n",
      "+-----------+--------+-------------------+------------------+-----------------+-----------------------+----------------------+------------------+------------------------------+-----------------------------+-----------------------------------+------------------------------+--------------------+--------------------+--------------------+\n",
      "|Afghanistan|     AFG|2021-02-22 00:00:00|               0.0|              0.0|                   null|                  null|              null|                           0.0|                          0.0|                               null|                          null|Johnson&Johnson, ...|World Health Orga...|https://covid19.w...|\n",
      "|Afghanistan|     AFG|2021-02-23 00:00:00|              null|             null|                   null|                  null|            1367.0|                          null|                         null|                               null|                          34.0|Johnson&Johnson, ...|World Health Orga...|https://covid19.w...|\n",
      "|Afghanistan|     AFG|2021-02-24 00:00:00|              null|             null|                   null|                  null|            1367.0|                          null|                         null|                               null|                          34.0|Johnson&Johnson, ...|World Health Orga...|https://covid19.w...|\n",
      "|Afghanistan|     AFG|2021-02-25 00:00:00|              null|             null|                   null|                  null|            1367.0|                          null|                         null|                               null|                          34.0|Johnson&Johnson, ...|World Health Orga...|https://covid19.w...|\n",
      "|Afghanistan|     AFG|2021-02-26 00:00:00|              null|             null|                   null|                  null|            1367.0|                          null|                         null|                               null|                          34.0|Johnson&Johnson, ...|World Health Orga...|https://covid19.w...|\n",
      "|Afghanistan|     AFG|2021-02-27 00:00:00|              null|             null|                   null|                  null|            1367.0|                          null|                         null|                               null|                          34.0|Johnson&Johnson, ...|World Health Orga...|https://covid19.w...|\n",
      "|Afghanistan|     AFG|2021-02-28 00:00:00|            8200.0|           8200.0|                   null|                  null|            1367.0|                          0.02|                         0.02|                               null|                          34.0|Johnson&Johnson, ...|World Health Orga...|https://covid19.w...|\n",
      "|Afghanistan|     AFG|2021-03-01 00:00:00|              null|             null|                   null|                  null|            1580.0|                          null|                         null|                               null|                          40.0|Johnson&Johnson, ...|World Health Orga...|https://covid19.w...|\n",
      "|Afghanistan|     AFG|2021-03-02 00:00:00|              null|             null|                   null|                  null|            1794.0|                          null|                         null|                               null|                          45.0|Johnson&Johnson, ...|World Health Orga...|https://covid19.w...|\n",
      "|Afghanistan|     AFG|2021-03-03 00:00:00|              null|             null|                   null|                  null|            2008.0|                          null|                         null|                               null|                          50.0|Johnson&Johnson, ...|World Health Orga...|https://covid19.w...|\n",
      "|Afghanistan|     AFG|2021-03-04 00:00:00|              null|             null|                   null|                  null|            2221.0|                          null|                         null|                               null|                          56.0|Johnson&Johnson, ...|World Health Orga...|https://covid19.w...|\n",
      "|Afghanistan|     AFG|2021-03-05 00:00:00|              null|             null|                   null|                  null|            2435.0|                          null|                         null|                               null|                          61.0|Johnson&Johnson, ...|World Health Orga...|https://covid19.w...|\n",
      "|Afghanistan|     AFG|2021-03-06 00:00:00|              null|             null|                   null|                  null|            2649.0|                          null|                         null|                               null|                          66.0|Johnson&Johnson, ...|World Health Orga...|https://covid19.w...|\n",
      "|Afghanistan|     AFG|2021-03-07 00:00:00|              null|             null|                   null|                  null|            2862.0|                          null|                         null|                               null|                          72.0|Johnson&Johnson, ...|World Health Orga...|https://covid19.w...|\n",
      "|Afghanistan|     AFG|2021-03-08 00:00:00|              null|             null|                   null|                  null|            2862.0|                          null|                         null|                               null|                          72.0|Johnson&Johnson, ...|World Health Orga...|https://covid19.w...|\n",
      "|Afghanistan|     AFG|2021-03-09 00:00:00|              null|             null|                   null|                  null|            2862.0|                          null|                         null|                               null|                          72.0|Johnson&Johnson, ...|World Health Orga...|https://covid19.w...|\n",
      "|Afghanistan|     AFG|2021-03-10 00:00:00|              null|             null|                   null|                  null|            2862.0|                          null|                         null|                               null|                          72.0|Johnson&Johnson, ...|World Health Orga...|https://covid19.w...|\n",
      "|Afghanistan|     AFG|2021-03-11 00:00:00|              null|             null|                   null|                  null|            2862.0|                          null|                         null|                               null|                          72.0|Johnson&Johnson, ...|World Health Orga...|https://covid19.w...|\n",
      "|Afghanistan|     AFG|2021-03-12 00:00:00|              null|             null|                   null|                  null|            2862.0|                          null|                         null|                               null|                          72.0|Johnson&Johnson, ...|World Health Orga...|https://covid19.w...|\n",
      "|Afghanistan|     AFG|2021-03-13 00:00:00|              null|             null|                   null|                  null|            2862.0|                          null|                         null|                               null|                          72.0|Johnson&Johnson, ...|World Health Orga...|https://covid19.w...|\n",
      "+-----------+--------+-------------------+------------------+-----------------+-----------------------+----------------------+------------------+------------------------------+-----------------------------+-----------------------------------+------------------------------+--------------------+--------------------+--------------------+\n",
      "only showing top 20 rows\n",
      "\n"
     ]
    }
   ],
   "source": [
    "# Drop only rows that contain all NA values\n",
    "df.na.drop(how='all').show()"
   ]
  },
  {
   "cell_type": "code",
   "execution_count": 37,
   "id": "b6c55649-40fe-4a0d-a454-9cf26a7b116a",
   "metadata": {},
   "outputs": [
    {
     "name": "stdout",
     "output_type": "stream",
     "text": [
      "+-----------+--------+-------------------+------------------+-----------------+-----------------------+----------------------+------------------+------------------------------+-----------------------------+-----------------------------------+------------------------------+--------------------+--------------------+--------------------+\n",
      "|    country|iso_code|               date|total_vaccinations|people_vaccinated|people_fully_vaccinated|daily_vaccinations_raw|daily_vaccinations|total_vaccinations_per_hundred|people_vaccinated_per_hundred|people_fully_vaccinated_per_hundred|daily_vaccinations_per_million|            vaccines|         source_name|      source_website|\n",
      "+-----------+--------+-------------------+------------------+-----------------+-----------------------+----------------------+------------------+------------------------------+-----------------------------+-----------------------------------+------------------------------+--------------------+--------------------+--------------------+\n",
      "|Afghanistan|     AFG|2021-02-22 00:00:00|               0.0|              0.0|                   null|                  null|              null|                           0.0|                          0.0|                               null|                          null|Johnson&Johnson, ...|World Health Orga...|https://covid19.w...|\n",
      "|Afghanistan|     AFG|2021-02-23 00:00:00|              null|             null|                   null|                  null|            1367.0|                          null|                         null|                               null|                          34.0|Johnson&Johnson, ...|World Health Orga...|https://covid19.w...|\n",
      "|Afghanistan|     AFG|2021-02-24 00:00:00|              null|             null|                   null|                  null|            1367.0|                          null|                         null|                               null|                          34.0|Johnson&Johnson, ...|World Health Orga...|https://covid19.w...|\n",
      "|Afghanistan|     AFG|2021-02-25 00:00:00|              null|             null|                   null|                  null|            1367.0|                          null|                         null|                               null|                          34.0|Johnson&Johnson, ...|World Health Orga...|https://covid19.w...|\n",
      "|Afghanistan|     AFG|2021-02-26 00:00:00|              null|             null|                   null|                  null|            1367.0|                          null|                         null|                               null|                          34.0|Johnson&Johnson, ...|World Health Orga...|https://covid19.w...|\n",
      "|Afghanistan|     AFG|2021-02-27 00:00:00|              null|             null|                   null|                  null|            1367.0|                          null|                         null|                               null|                          34.0|Johnson&Johnson, ...|World Health Orga...|https://covid19.w...|\n",
      "|Afghanistan|     AFG|2021-02-28 00:00:00|            8200.0|           8200.0|                   null|                  null|            1367.0|                          0.02|                         0.02|                               null|                          34.0|Johnson&Johnson, ...|World Health Orga...|https://covid19.w...|\n",
      "|Afghanistan|     AFG|2021-03-01 00:00:00|              null|             null|                   null|                  null|            1580.0|                          null|                         null|                               null|                          40.0|Johnson&Johnson, ...|World Health Orga...|https://covid19.w...|\n",
      "|Afghanistan|     AFG|2021-03-02 00:00:00|              null|             null|                   null|                  null|            1794.0|                          null|                         null|                               null|                          45.0|Johnson&Johnson, ...|World Health Orga...|https://covid19.w...|\n",
      "|Afghanistan|     AFG|2021-03-03 00:00:00|              null|             null|                   null|                  null|            2008.0|                          null|                         null|                               null|                          50.0|Johnson&Johnson, ...|World Health Orga...|https://covid19.w...|\n",
      "|Afghanistan|     AFG|2021-03-04 00:00:00|              null|             null|                   null|                  null|            2221.0|                          null|                         null|                               null|                          56.0|Johnson&Johnson, ...|World Health Orga...|https://covid19.w...|\n",
      "|Afghanistan|     AFG|2021-03-05 00:00:00|              null|             null|                   null|                  null|            2435.0|                          null|                         null|                               null|                          61.0|Johnson&Johnson, ...|World Health Orga...|https://covid19.w...|\n",
      "|Afghanistan|     AFG|2021-03-06 00:00:00|              null|             null|                   null|                  null|            2649.0|                          null|                         null|                               null|                          66.0|Johnson&Johnson, ...|World Health Orga...|https://covid19.w...|\n",
      "|Afghanistan|     AFG|2021-03-07 00:00:00|              null|             null|                   null|                  null|            2862.0|                          null|                         null|                               null|                          72.0|Johnson&Johnson, ...|World Health Orga...|https://covid19.w...|\n",
      "|Afghanistan|     AFG|2021-03-08 00:00:00|              null|             null|                   null|                  null|            2862.0|                          null|                         null|                               null|                          72.0|Johnson&Johnson, ...|World Health Orga...|https://covid19.w...|\n",
      "|Afghanistan|     AFG|2021-03-09 00:00:00|              null|             null|                   null|                  null|            2862.0|                          null|                         null|                               null|                          72.0|Johnson&Johnson, ...|World Health Orga...|https://covid19.w...|\n",
      "|Afghanistan|     AFG|2021-03-10 00:00:00|              null|             null|                   null|                  null|            2862.0|                          null|                         null|                               null|                          72.0|Johnson&Johnson, ...|World Health Orga...|https://covid19.w...|\n",
      "|Afghanistan|     AFG|2021-03-11 00:00:00|              null|             null|                   null|                  null|            2862.0|                          null|                         null|                               null|                          72.0|Johnson&Johnson, ...|World Health Orga...|https://covid19.w...|\n",
      "|Afghanistan|     AFG|2021-03-12 00:00:00|              null|             null|                   null|                  null|            2862.0|                          null|                         null|                               null|                          72.0|Johnson&Johnson, ...|World Health Orga...|https://covid19.w...|\n",
      "|Afghanistan|     AFG|2021-03-13 00:00:00|              null|             null|                   null|                  null|            2862.0|                          null|                         null|                               null|                          72.0|Johnson&Johnson, ...|World Health Orga...|https://covid19.w...|\n",
      "+-----------+--------+-------------------+------------------+-----------------+-----------------------+----------------------+------------------+------------------------------+-----------------------------+-----------------------------------+------------------------------+--------------------+--------------------+--------------------+\n",
      "only showing top 20 rows\n",
      "\n"
     ]
    }
   ],
   "source": [
    "# Drop only rows that contain more than 4 NA values\n",
    "df.na.drop(how='any', thresh=4).show()"
   ]
  },
  {
   "cell_type": "code",
   "execution_count": 40,
   "id": "7cbe6477-31ab-4989-b4af-25fcfe2c77f2",
   "metadata": {},
   "outputs": [
    {
     "name": "stdout",
     "output_type": "stream",
     "text": [
      "+-----------+--------+-------------------+------------------+-----------------+-----------------------+----------------------+------------------+------------------------------+-----------------------------+-----------------------------------+------------------------------+--------------------+--------------------+--------------------+\n",
      "|    country|iso_code|               date|total_vaccinations|people_vaccinated|people_fully_vaccinated|daily_vaccinations_raw|daily_vaccinations|total_vaccinations_per_hundred|people_vaccinated_per_hundred|people_fully_vaccinated_per_hundred|daily_vaccinations_per_million|            vaccines|         source_name|      source_website|\n",
      "+-----------+--------+-------------------+------------------+-----------------+-----------------------+----------------------+------------------+------------------------------+-----------------------------+-----------------------------------+------------------------------+--------------------+--------------------+--------------------+\n",
      "|Afghanistan|     AFG|2021-05-27 00:00:00|          593313.0|         479574.0|               113739.0|                2859.0|            6487.0|                          1.49|                          1.2|                               0.29|                         163.0|Johnson&Johnson, ...|World Health Orga...|https://covid19.w...|\n",
      "|Afghanistan|     AFG|2021-06-03 00:00:00|          630305.0|         481800.0|               148505.0|                4015.0|            5285.0|                          1.58|                         1.21|                               0.37|                         133.0|Johnson&Johnson, ...|World Health Orga...|https://covid19.w...|\n",
      "|Afghanistan|     AFG|2022-01-27 00:00:00|         5081064.0|        4517380.0|              3868832.0|                6868.0|            9802.0|                         12.76|                        11.34|                               9.71|                         246.0|Johnson&Johnson, ...|World Health Orga...|https://covid19.w...|\n",
      "|    Albania|     ALB|2021-01-13 00:00:00|             188.0|            188.0|                   null|                  60.0|              63.0|                          0.01|                         0.01|                               null|                          22.0|Oxford/AstraZenec...|  Ministry of Health|https://shendetes...|\n",
      "|    Albania|     ALB|2021-01-14 00:00:00|             266.0|            266.0|                   null|                  78.0|              66.0|                          0.01|                         0.01|                               null|                          23.0|Oxford/AstraZenec...|  Ministry of Health|https://shendetes...|\n",
      "|    Albania|     ALB|2021-01-15 00:00:00|             308.0|            308.0|                   null|                  42.0|              62.0|                          0.01|                         0.01|                               null|                          22.0|Oxford/AstraZenec...|  Ministry of Health|https://shendetes...|\n",
      "|    Albania|     ALB|2021-01-16 00:00:00|             369.0|            369.0|                   null|                  61.0|              62.0|                          0.01|                         0.01|                               null|                          22.0|Oxford/AstraZenec...|  Ministry of Health|https://shendetes...|\n",
      "|    Albania|     ALB|2021-01-17 00:00:00|             405.0|            405.0|                   null|                  36.0|              58.0|                          0.01|                         0.01|                               null|                          20.0|Oxford/AstraZenec...|  Ministry of Health|https://shendetes...|\n",
      "|    Albania|     ALB|2021-01-18 00:00:00|             447.0|            447.0|                   null|                  42.0|              55.0|                          0.02|                         0.02|                               null|                          19.0|Oxford/AstraZenec...|  Ministry of Health|https://shendetes...|\n",
      "|    Albania|     ALB|2021-01-19 00:00:00|             483.0|            483.0|                   null|                  36.0|              51.0|                          0.02|                         0.02|                               null|                          18.0|Oxford/AstraZenec...|  Ministry of Health|https://shendetes...|\n",
      "|    Albania|     ALB|2021-01-20 00:00:00|             519.0|            519.0|                   null|                  36.0|              47.0|                          0.02|                         0.02|                               null|                          16.0|Oxford/AstraZenec...|  Ministry of Health|https://shendetes...|\n",
      "|    Albania|     ALB|2021-01-21 00:00:00|             549.0|            549.0|                   null|                  30.0|              40.0|                          0.02|                         0.02|                               null|                          14.0|Oxford/AstraZenec...|  Ministry of Health|https://shendetes...|\n",
      "|    Albania|     ALB|2021-02-18 00:00:00|            3049.0|           2438.0|                  611.0|                1348.0|             254.0|                          0.11|                         0.08|                               0.02|                          88.0|Oxford/AstraZenec...|  Ministry of Health|https://shendetes...|\n",
      "|    Albania|     ALB|2021-02-19 00:00:00|            4177.0|             null|                   null|                1128.0|             405.0|                          0.15|                         null|                               null|                         141.0|Oxford/AstraZenec...|  Ministry of Health|https://shendetes...|\n",
      "|    Albania|     ALB|2021-03-23 00:00:00|           51690.0|             null|                   null|                3461.0|            2895.0|                           1.8|                         null|                               null|                        1008.0|Oxford/AstraZenec...|  Ministry of Health|https://shendetes...|\n",
      "|    Albania|     ALB|2021-03-24 00:00:00|           53992.0|             null|                   null|                2302.0|            2946.0|                          1.88|                         null|                               null|                        1025.0|Oxford/AstraZenec...|  Ministry of Health|https://shendetes...|\n",
      "|    Albania|     ALB|2021-03-25 00:00:00|           59348.0|             null|                   null|                5356.0|            3287.0|                          2.07|                         null|                               null|                        1144.0|Oxford/AstraZenec...|  Ministry of Health|https://shendetes...|\n",
      "|    Albania|     ALB|2021-03-26 00:00:00|           62248.0|             null|                   null|                2900.0|            3276.0|                          2.17|                         null|                               null|                        1140.0|Oxford/AstraZenec...|  Ministry of Health|https://shendetes...|\n",
      "|    Albania|     ALB|2021-03-27 00:00:00|           64075.0|             null|                   null|                1827.0|            3113.0|                          2.23|                         null|                               null|                        1084.0|Oxford/AstraZenec...|  Ministry of Health|https://shendetes...|\n",
      "|    Albania|     ALB|2021-03-28 00:00:00|           78000.0|             null|                   null|               13925.0|            4678.0|                          2.71|                         null|                               null|                        1628.0|Oxford/AstraZenec...|  Ministry of Health|https://shendetes...|\n",
      "+-----------+--------+-------------------+------------------+-----------------+-----------------------+----------------------+------------------+------------------------------+-----------------------------+-----------------------------------+------------------------------+--------------------+--------------------+--------------------+\n",
      "only showing top 20 rows\n",
      "\n"
     ]
    }
   ],
   "source": [
    "# Drop only rows that have NA values in a specific column\n",
    "df.na.drop(subset=['daily_vaccinations_raw']).show()"
   ]
  },
  {
   "cell_type": "markdown",
   "id": "a60c2d1e-a87d-4d11-8481-12293d59cd42",
   "metadata": {},
   "source": [
    "### Replacing the values"
   ]
  },
  {
   "cell_type": "code",
   "execution_count": 46,
   "id": "b34b99e2-0785-45f9-83d4-d9c15556985e",
   "metadata": {},
   "outputs": [
    {
     "name": "stdout",
     "output_type": "stream",
     "text": [
      "+-----------+--------+-------------------+------------------+-----------------+-----------------------+----------------------+------------------+------------------------------+-----------------------------+-----------------------------------+------------------------------+--------------------+--------------------+--------------------+\n",
      "|    country|iso_code|               date|total_vaccinations|people_vaccinated|people_fully_vaccinated|daily_vaccinations_raw|daily_vaccinations|total_vaccinations_per_hundred|people_vaccinated_per_hundred|people_fully_vaccinated_per_hundred|daily_vaccinations_per_million|            vaccines|         source_name|      source_website|\n",
      "+-----------+--------+-------------------+------------------+-----------------+-----------------------+----------------------+------------------+------------------------------+-----------------------------+-----------------------------------+------------------------------+--------------------+--------------------+--------------------+\n",
      "|Afghanistan|     AFG|2021-02-22 00:00:00|               0.0|              0.0|              9999999.0|             9999999.0|         9999999.0|                           0.0|                          0.0|                          9999999.0|                     9999999.0|Johnson&Johnson, ...|World Health Orga...|https://covid19.w...|\n",
      "|Afghanistan|     AFG|2021-02-23 00:00:00|         9999999.0|        9999999.0|              9999999.0|             9999999.0|            1367.0|                     9999999.0|                    9999999.0|                          9999999.0|                          34.0|Johnson&Johnson, ...|World Health Orga...|https://covid19.w...|\n",
      "|Afghanistan|     AFG|2021-02-24 00:00:00|         9999999.0|        9999999.0|              9999999.0|             9999999.0|            1367.0|                     9999999.0|                    9999999.0|                          9999999.0|                          34.0|Johnson&Johnson, ...|World Health Orga...|https://covid19.w...|\n",
      "|Afghanistan|     AFG|2021-02-25 00:00:00|         9999999.0|        9999999.0|              9999999.0|             9999999.0|            1367.0|                     9999999.0|                    9999999.0|                          9999999.0|                          34.0|Johnson&Johnson, ...|World Health Orga...|https://covid19.w...|\n",
      "|Afghanistan|     AFG|2021-02-26 00:00:00|         9999999.0|        9999999.0|              9999999.0|             9999999.0|            1367.0|                     9999999.0|                    9999999.0|                          9999999.0|                          34.0|Johnson&Johnson, ...|World Health Orga...|https://covid19.w...|\n",
      "|Afghanistan|     AFG|2021-02-27 00:00:00|         9999999.0|        9999999.0|              9999999.0|             9999999.0|            1367.0|                     9999999.0|                    9999999.0|                          9999999.0|                          34.0|Johnson&Johnson, ...|World Health Orga...|https://covid19.w...|\n",
      "|Afghanistan|     AFG|2021-02-28 00:00:00|            8200.0|           8200.0|              9999999.0|             9999999.0|            1367.0|                          0.02|                         0.02|                          9999999.0|                          34.0|Johnson&Johnson, ...|World Health Orga...|https://covid19.w...|\n",
      "|Afghanistan|     AFG|2021-03-01 00:00:00|         9999999.0|        9999999.0|              9999999.0|             9999999.0|            1580.0|                     9999999.0|                    9999999.0|                          9999999.0|                          40.0|Johnson&Johnson, ...|World Health Orga...|https://covid19.w...|\n",
      "|Afghanistan|     AFG|2021-03-02 00:00:00|         9999999.0|        9999999.0|              9999999.0|             9999999.0|            1794.0|                     9999999.0|                    9999999.0|                          9999999.0|                          45.0|Johnson&Johnson, ...|World Health Orga...|https://covid19.w...|\n",
      "|Afghanistan|     AFG|2021-03-03 00:00:00|         9999999.0|        9999999.0|              9999999.0|             9999999.0|            2008.0|                     9999999.0|                    9999999.0|                          9999999.0|                          50.0|Johnson&Johnson, ...|World Health Orga...|https://covid19.w...|\n",
      "|Afghanistan|     AFG|2021-03-04 00:00:00|         9999999.0|        9999999.0|              9999999.0|             9999999.0|            2221.0|                     9999999.0|                    9999999.0|                          9999999.0|                          56.0|Johnson&Johnson, ...|World Health Orga...|https://covid19.w...|\n",
      "|Afghanistan|     AFG|2021-03-05 00:00:00|         9999999.0|        9999999.0|              9999999.0|             9999999.0|            2435.0|                     9999999.0|                    9999999.0|                          9999999.0|                          61.0|Johnson&Johnson, ...|World Health Orga...|https://covid19.w...|\n",
      "|Afghanistan|     AFG|2021-03-06 00:00:00|         9999999.0|        9999999.0|              9999999.0|             9999999.0|            2649.0|                     9999999.0|                    9999999.0|                          9999999.0|                          66.0|Johnson&Johnson, ...|World Health Orga...|https://covid19.w...|\n",
      "|Afghanistan|     AFG|2021-03-07 00:00:00|         9999999.0|        9999999.0|              9999999.0|             9999999.0|            2862.0|                     9999999.0|                    9999999.0|                          9999999.0|                          72.0|Johnson&Johnson, ...|World Health Orga...|https://covid19.w...|\n",
      "|Afghanistan|     AFG|2021-03-08 00:00:00|         9999999.0|        9999999.0|              9999999.0|             9999999.0|            2862.0|                     9999999.0|                    9999999.0|                          9999999.0|                          72.0|Johnson&Johnson, ...|World Health Orga...|https://covid19.w...|\n",
      "|Afghanistan|     AFG|2021-03-09 00:00:00|         9999999.0|        9999999.0|              9999999.0|             9999999.0|            2862.0|                     9999999.0|                    9999999.0|                          9999999.0|                          72.0|Johnson&Johnson, ...|World Health Orga...|https://covid19.w...|\n",
      "|Afghanistan|     AFG|2021-03-10 00:00:00|         9999999.0|        9999999.0|              9999999.0|             9999999.0|            2862.0|                     9999999.0|                    9999999.0|                          9999999.0|                          72.0|Johnson&Johnson, ...|World Health Orga...|https://covid19.w...|\n",
      "|Afghanistan|     AFG|2021-03-11 00:00:00|         9999999.0|        9999999.0|              9999999.0|             9999999.0|            2862.0|                     9999999.0|                    9999999.0|                          9999999.0|                          72.0|Johnson&Johnson, ...|World Health Orga...|https://covid19.w...|\n",
      "|Afghanistan|     AFG|2021-03-12 00:00:00|         9999999.0|        9999999.0|              9999999.0|             9999999.0|            2862.0|                     9999999.0|                    9999999.0|                          9999999.0|                          72.0|Johnson&Johnson, ...|World Health Orga...|https://covid19.w...|\n",
      "|Afghanistan|     AFG|2021-03-13 00:00:00|         9999999.0|        9999999.0|              9999999.0|             9999999.0|            2862.0|                     9999999.0|                    9999999.0|                          9999999.0|                          72.0|Johnson&Johnson, ...|World Health Orga...|https://covid19.w...|\n",
      "+-----------+--------+-------------------+------------------+-----------------+-----------------------+----------------------+------------------+------------------------------+-----------------------------+-----------------------------------+------------------------------+--------------------+--------------------+--------------------+\n",
      "only showing top 20 rows\n",
      "\n"
     ]
    }
   ],
   "source": [
    "# Replacing all missing values with a specific value\n",
    "df.na.fill(9999999).show()"
   ]
  },
  {
   "cell_type": "code",
   "execution_count": 50,
   "id": "879c49b4-be69-46f2-898f-12a283c023cc",
   "metadata": {},
   "outputs": [
    {
     "name": "stdout",
     "output_type": "stream",
     "text": [
      "+-----------+--------+-------------------+------------------+-----------------+-----------------------+----------------------+------------------+------------------------------+-----------------------------+-----------------------------------+------------------------------+--------------------+--------------------+--------------------+\n",
      "|    country|iso_code|               date|total_vaccinations|people_vaccinated|people_fully_vaccinated|daily_vaccinations_raw|daily_vaccinations|total_vaccinations_per_hundred|people_vaccinated_per_hundred|people_fully_vaccinated_per_hundred|daily_vaccinations_per_million|            vaccines|         source_name|      source_website|\n",
      "+-----------+--------+-------------------+------------------+-----------------+-----------------------+----------------------+------------------+------------------------------+-----------------------------+-----------------------------------+------------------------------+--------------------+--------------------+--------------------+\n",
      "|Afghanistan|     AFG|2021-02-22 00:00:00|               0.0|              0.0|              9999999.0|             9999999.0|         9999999.0|                           0.0|                          0.0|                               null|                          null|Johnson&Johnson, ...|World Health Orga...|https://covid19.w...|\n",
      "|Afghanistan|     AFG|2021-02-23 00:00:00|              null|             null|              9999999.0|             9999999.0|            1367.0|                          null|                         null|                               null|                          34.0|Johnson&Johnson, ...|World Health Orga...|https://covid19.w...|\n",
      "|Afghanistan|     AFG|2021-02-24 00:00:00|              null|             null|              9999999.0|             9999999.0|            1367.0|                          null|                         null|                               null|                          34.0|Johnson&Johnson, ...|World Health Orga...|https://covid19.w...|\n",
      "|Afghanistan|     AFG|2021-02-25 00:00:00|              null|             null|              9999999.0|             9999999.0|            1367.0|                          null|                         null|                               null|                          34.0|Johnson&Johnson, ...|World Health Orga...|https://covid19.w...|\n",
      "|Afghanistan|     AFG|2021-02-26 00:00:00|              null|             null|              9999999.0|             9999999.0|            1367.0|                          null|                         null|                               null|                          34.0|Johnson&Johnson, ...|World Health Orga...|https://covid19.w...|\n",
      "|Afghanistan|     AFG|2021-02-27 00:00:00|              null|             null|              9999999.0|             9999999.0|            1367.0|                          null|                         null|                               null|                          34.0|Johnson&Johnson, ...|World Health Orga...|https://covid19.w...|\n",
      "|Afghanistan|     AFG|2021-02-28 00:00:00|            8200.0|           8200.0|              9999999.0|             9999999.0|            1367.0|                          0.02|                         0.02|                               null|                          34.0|Johnson&Johnson, ...|World Health Orga...|https://covid19.w...|\n",
      "|Afghanistan|     AFG|2021-03-01 00:00:00|              null|             null|              9999999.0|             9999999.0|            1580.0|                          null|                         null|                               null|                          40.0|Johnson&Johnson, ...|World Health Orga...|https://covid19.w...|\n",
      "|Afghanistan|     AFG|2021-03-02 00:00:00|              null|             null|              9999999.0|             9999999.0|            1794.0|                          null|                         null|                               null|                          45.0|Johnson&Johnson, ...|World Health Orga...|https://covid19.w...|\n",
      "|Afghanistan|     AFG|2021-03-03 00:00:00|              null|             null|              9999999.0|             9999999.0|            2008.0|                          null|                         null|                               null|                          50.0|Johnson&Johnson, ...|World Health Orga...|https://covid19.w...|\n",
      "|Afghanistan|     AFG|2021-03-04 00:00:00|              null|             null|              9999999.0|             9999999.0|            2221.0|                          null|                         null|                               null|                          56.0|Johnson&Johnson, ...|World Health Orga...|https://covid19.w...|\n",
      "|Afghanistan|     AFG|2021-03-05 00:00:00|              null|             null|              9999999.0|             9999999.0|            2435.0|                          null|                         null|                               null|                          61.0|Johnson&Johnson, ...|World Health Orga...|https://covid19.w...|\n",
      "|Afghanistan|     AFG|2021-03-06 00:00:00|              null|             null|              9999999.0|             9999999.0|            2649.0|                          null|                         null|                               null|                          66.0|Johnson&Johnson, ...|World Health Orga...|https://covid19.w...|\n",
      "|Afghanistan|     AFG|2021-03-07 00:00:00|              null|             null|              9999999.0|             9999999.0|            2862.0|                          null|                         null|                               null|                          72.0|Johnson&Johnson, ...|World Health Orga...|https://covid19.w...|\n",
      "|Afghanistan|     AFG|2021-03-08 00:00:00|              null|             null|              9999999.0|             9999999.0|            2862.0|                          null|                         null|                               null|                          72.0|Johnson&Johnson, ...|World Health Orga...|https://covid19.w...|\n",
      "|Afghanistan|     AFG|2021-03-09 00:00:00|              null|             null|              9999999.0|             9999999.0|            2862.0|                          null|                         null|                               null|                          72.0|Johnson&Johnson, ...|World Health Orga...|https://covid19.w...|\n",
      "|Afghanistan|     AFG|2021-03-10 00:00:00|              null|             null|              9999999.0|             9999999.0|            2862.0|                          null|                         null|                               null|                          72.0|Johnson&Johnson, ...|World Health Orga...|https://covid19.w...|\n",
      "|Afghanistan|     AFG|2021-03-11 00:00:00|              null|             null|              9999999.0|             9999999.0|            2862.0|                          null|                         null|                               null|                          72.0|Johnson&Johnson, ...|World Health Orga...|https://covid19.w...|\n",
      "|Afghanistan|     AFG|2021-03-12 00:00:00|              null|             null|              9999999.0|             9999999.0|            2862.0|                          null|                         null|                               null|                          72.0|Johnson&Johnson, ...|World Health Orga...|https://covid19.w...|\n",
      "|Afghanistan|     AFG|2021-03-13 00:00:00|              null|             null|              9999999.0|             9999999.0|            2862.0|                          null|                         null|                               null|                          72.0|Johnson&Johnson, ...|World Health Orga...|https://covid19.w...|\n",
      "+-----------+--------+-------------------+------------------+-----------------+-----------------------+----------------------+------------------+------------------------------+-----------------------------+-----------------------------------+------------------------------+--------------------+--------------------+--------------------+\n",
      "only showing top 20 rows\n",
      "\n"
     ]
    }
   ],
   "source": [
    "# Replacing all missing values in a group of columns with a specific value\n",
    "df.na.fill(9999999, ['people_fully_vaccinated','daily_vaccinations_raw','daily_vaccinations']).show()"
   ]
  },
  {
   "cell_type": "markdown",
   "id": "2fce221c-6ee9-4a1b-9e63-c3a15d69b372",
   "metadata": {},
   "source": [
    "Create an imputer to transform the selected columns and replace the NA values with the mean of the columns"
   ]
  },
  {
   "cell_type": "code",
   "execution_count": 57,
   "id": "05bb8b7e-20f0-4e7a-97c7-d7aa6280322a",
   "metadata": {},
   "outputs": [],
   "source": [
    "# Creation of the imputer. The strategy can be changed to \"median\" and \"mode\" as well\n",
    "\n",
    "from pyspark.ml.feature import Imputer\n",
    "\n",
    "inputCols = ['people_fully_vaccinated','daily_vaccinations_raw','daily_vaccinations']\n",
    "\n",
    "imputer = Imputer(\n",
    "    inputCols=inputCols,\n",
    "    outputCols=[f'{col}_imputed' for col in inputCols]\n",
    ").setStrategy('mean')"
   ]
  },
  {
   "cell_type": "code",
   "execution_count": 58,
   "id": "ece0e989-5da8-458f-a0cc-da2139e25b6f",
   "metadata": {},
   "outputs": [
    {
     "name": "stdout",
     "output_type": "stream",
     "text": [
      "+-------------------------------+------------------------------+--------------------------+\n",
      "|people_fully_vaccinated_imputed|daily_vaccinations_raw_imputed|daily_vaccinations_imputed|\n",
      "+-------------------------------+------------------------------+--------------------------+\n",
      "|           1.4138299848152157E7|             270599.5782478367|        131305.48607518588|\n",
      "|           1.4138299848152157E7|             270599.5782478367|                    1367.0|\n",
      "|           1.4138299848152157E7|             270599.5782478367|                    1367.0|\n",
      "|           1.4138299848152157E7|             270599.5782478367|                    1367.0|\n",
      "|           1.4138299848152157E7|             270599.5782478367|                    1367.0|\n",
      "|           1.4138299848152157E7|             270599.5782478367|                    1367.0|\n",
      "|           1.4138299848152157E7|             270599.5782478367|                    1367.0|\n",
      "|           1.4138299848152157E7|             270599.5782478367|                    1580.0|\n",
      "|           1.4138299848152157E7|             270599.5782478367|                    1794.0|\n",
      "|           1.4138299848152157E7|             270599.5782478367|                    2008.0|\n",
      "|           1.4138299848152157E7|             270599.5782478367|                    2221.0|\n",
      "|           1.4138299848152157E7|             270599.5782478367|                    2435.0|\n",
      "|           1.4138299848152157E7|             270599.5782478367|                    2649.0|\n",
      "|           1.4138299848152157E7|             270599.5782478367|                    2862.0|\n",
      "|           1.4138299848152157E7|             270599.5782478367|                    2862.0|\n",
      "|           1.4138299848152157E7|             270599.5782478367|                    2862.0|\n",
      "|           1.4138299848152157E7|             270599.5782478367|                    2862.0|\n",
      "|           1.4138299848152157E7|             270599.5782478367|                    2862.0|\n",
      "|           1.4138299848152157E7|             270599.5782478367|                    2862.0|\n",
      "|           1.4138299848152157E7|             270599.5782478367|                    2862.0|\n",
      "+-------------------------------+------------------------------+--------------------------+\n",
      "only showing top 20 rows\n",
      "\n"
     ]
    }
   ],
   "source": [
    "# Fit the imputer the data from the dataframe and add the imputed columns to it\n",
    "imputer.fit(df).transform(df).select(['people_fully_vaccinated_imputed','daily_vaccinations_raw_imputed','daily_vaccinations_imputed']).show()"
   ]
  },
  {
   "cell_type": "code",
   "execution_count": null,
   "id": "261350e5-8b58-4395-a81e-a04bb36dd6df",
   "metadata": {},
   "outputs": [],
   "source": []
  },
  {
   "cell_type": "code",
   "execution_count": null,
   "id": "19fcb280-1496-410d-a5f8-91cb19272040",
   "metadata": {},
   "outputs": [],
   "source": []
  },
  {
   "cell_type": "code",
   "execution_count": null,
   "id": "f07aa17d-724e-4791-9b23-bee025257631",
   "metadata": {},
   "outputs": [],
   "source": []
  },
  {
   "cell_type": "code",
   "execution_count": null,
   "id": "c83af00f-e54f-49d5-b59c-86cdb3ac9a7d",
   "metadata": {},
   "outputs": [],
   "source": []
  },
  {
   "cell_type": "code",
   "execution_count": null,
   "id": "b72a1e96-9bd8-466e-ab96-c440d56953c4",
   "metadata": {},
   "outputs": [],
   "source": []
  }
 ],
 "metadata": {
  "kernelspec": {
   "display_name": "Python 3 (ipykernel)",
   "language": "python",
   "name": "python3"
  },
  "language_info": {
   "codemirror_mode": {
    "name": "ipython",
    "version": 3
   },
   "file_extension": ".py",
   "mimetype": "text/x-python",
   "name": "python",
   "nbconvert_exporter": "python",
   "pygments_lexer": "ipython3",
   "version": "3.10.5"
  }
 },
 "nbformat": 4,
 "nbformat_minor": 5
}
